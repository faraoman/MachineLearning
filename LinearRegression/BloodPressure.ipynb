{
 "cells": [
  {
   "cell_type": "markdown",
   "metadata": {},
   "source": [
    "### x1: Systolic blood pressure\n",
    "### x2: Age in years\n",
    "### x3: Weight in pounds"
   ]
  },
  {
   "cell_type": "code",
   "execution_count": 1,
   "metadata": {},
   "outputs": [],
   "source": [
    "import matplotlib.pyplot as plt\n",
    "import numpy as np\n",
    "import pandas as pd"
   ]
  },
  {
   "cell_type": "code",
   "execution_count": 6,
   "metadata": {},
   "outputs": [
    {
     "name": "stdout",
     "output_type": "stream",
     "text": [
      "*** No CODEPAGE record, no encoding_override: will use 'ascii'\n"
     ]
    }
   ],
   "source": [
    "#Reading the excel data file using pandas\n",
    "df = pd.read_excel('mlr02.xls')"
   ]
  },
  {
   "cell_type": "code",
   "execution_count": 7,
   "metadata": {},
   "outputs": [],
   "source": [
    "#converting df into matrix\n",
    "X = df.as_matrix()"
   ]
  },
  {
   "cell_type": "code",
   "execution_count": 8,
   "metadata": {},
   "outputs": [
    {
     "data": {
      "image/png": "[encoded data removed]",
      "text/plain": [
       "<matplotlib.figure.Figure at 0x177d05ac7b8>"
      ]
     },
     "metadata": {},
     "output_type": "display_data"
    }
   ],
   "source": [
    "#plotting blood pressure as a function of age in years\n",
    "plt.scatter(X[:, 1], X[:, 0])\n",
    "plt.xlabel('Age in years')\n",
    "plt.ylabel('Systolic blood pressure')\n",
    "plt.show()"
   ]
  },
  {
   "cell_type": "code",
   "execution_count": 9,
   "metadata": {},
   "outputs": [
    {
     "data": {
      "image/png": "[encoded data removed]",
      "text/plain": [
       "<matplotlib.figure.Figure at 0x177d0603c50>"
      ]
     },
     "metadata": {},
     "output_type": "display_data"
    }
   ],
   "source": [
    "#plotting blood pressure as a function of weights in pounds\n",
    "plt.scatter(X[:, 2], X[:, 0])\n",
    "plt.xlabel('Weights in pounds')\n",
    "plt.ylabel('Systolic blood pressure')\n",
    "plt.show()"
   ]
  },
  {
   "cell_type": "code",
   "execution_count": 13,
   "metadata": {},
   "outputs": [],
   "source": [
    "#Adding the bias\n",
    "df['ones'] = 1"
   ]
  },
  {
   "cell_type": "code",
   "execution_count": 14,
   "metadata": {},
   "outputs": [],
   "source": [
    "#initializing input and output matrices\n",
    "Y = df['X1']\n",
    "X = df[['X2', 'X3', 'ones']]"
   ]
  },
  {
   "cell_type": "code",
   "execution_count": 17,
   "metadata": {},
   "outputs": [
    {
     "name": "stdout",
     "output_type": "stream",
     "text": [
      "The rsquare for X2 only is  0.957840720815\n",
      "The rsquare for X3 only is  0.941995208529\n",
      "The rsquare for both is  0.97684710415\n"
     ]
    }
   ],
   "source": [
    "#Comparing R square for models of Linear regression with X2 only, Linear regression with X3 only, linear regression with both X2 and X3.\n",
    "X2only = df[['X2', 'ones']]\n",
    "X3only = df[['X3', 'ones']]\n",
    "def get_r2(X, Y):\n",
    "    w = np.linalg.solve(np.dot(X.T, X), np.dot(X.T, Y))\n",
    "    Yhat = np.dot(X, w)\n",
    "    diff1 = Y - Yhat\n",
    "    diff2 = Y - Y.mean()\n",
    "    Rsquare = 1 - (diff1.dot(diff1)/diff2.dot(diff2))\n",
    "    return Rsquare\n",
    "\n",
    "r2forX2only = get_r2(X2only, Y)\n",
    "print(\"The rsquare for X2 only is \", r2forX2only)\n",
    "r2forX3only = get_r2(X3only, Y)\n",
    "print(\"The rsquare for X3 only is \", r2forX3only)\n",
    "r2forboth = get_r2(X, Y)\n",
    "print(\"The rsquare for both is \", r2forboth)\n"
   ]
  },
  {
   "cell_type": "code",
   "execution_count": null,
   "metadata": {},
   "outputs": [],
   "source": []
  }
 ],
 "metadata": {
  "kernelspec": {
   "display_name": "Python 3",
   "language": "python",
   "name": "python3"
  },
  "language_info": {
   "codemirror_mode": {
    "name": "ipython",
    "version": 3
   },
   "file_extension": ".py",
   "mimetype": "text/x-python",
   "name": "python",
   "nbconvert_exporter": "python",
   "pygments_lexer": "ipython3",
   "version": "3.6.3"
  }
 },
 "nbformat": 4,
 "nbformat_minor": 2
}
