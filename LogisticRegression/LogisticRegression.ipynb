{
 "cells": [
  {
   "cell_type": "markdown",
   "metadata": {},
   "source": [
    "## In this code, we will see how to generate the output of logistic classifier, sigmoid function. Sigmoid function, f(x) = 1/(1+exp(-x)), for x varying from -inf to +inf, f(x) varies from 0 to 1 with f(x) = 0.5 for x = 0. \n",
    "## In this code, for every value of z, sigmoid function produces output between 0 to 1. Also, matrix X has dimensions of N x D. One bias term column is also introduced, hence, Xb has dimensions of N x (D+1). Also, w has dimensions of (D+1)x1."
   ]
  },
  {
   "cell_type": "code",
   "execution_count": 9,
   "metadata": {},
   "outputs": [],
   "source": [
    "import numpy as np"
   ]
  },
  {
   "cell_type": "code",
   "execution_count": 10,
   "metadata": {},
   "outputs": [],
   "source": [
    "N = 100\n",
    "D = 2"
   ]
  },
  {
   "cell_type": "code",
   "execution_count": 11,
   "metadata": {},
   "outputs": [],
   "source": [
    "X = np.random.randn(N, D)\n",
    "ones = np.array([[1]*N]).T\n",
    "Xb = np.concatenate((ones, X), axis = 1)"
   ]
  },
  {
   "cell_type": "code",
   "execution_count": 12,
   "metadata": {},
   "outputs": [],
   "source": [
    "w = np.random.randn(D + 1)\n",
    "z = Xb.dot(w)"
   ]
  },
  {
   "cell_type": "code",
   "execution_count": 13,
   "metadata": {},
   "outputs": [],
   "source": [
    "def sigmoid(z):\n",
    "    return 1/(1 + np.exp(-z))"
   ]
  },
  {
   "cell_type": "code",
   "execution_count": 14,
   "metadata": {},
   "outputs": [
    {
     "name": "stdout",
     "output_type": "stream",
     "text": [
      "[ 0.7547614   0.82006326  0.57481618  0.79952861  0.74340533  0.87096866\n",
      "  0.49944127  0.900289    0.7490462   0.98449506  0.74179554  0.95976692\n",
      "  0.59842763  0.56419628  0.93781204  0.43968191  0.46121997  0.50037918\n",
      "  0.70637678  0.78097275  0.72767266  0.93209909  0.47805431  0.77678734\n",
      "  0.67472689  0.71935629  0.70207694  0.98681046  0.97514187  0.56203939\n",
      "  0.75525314  0.2141517   0.86790001  0.81956759  0.76707666  0.57793537\n",
      "  0.86168756  0.73594859  0.7048375   0.81974757  0.42108565  0.73332925\n",
      "  0.6752067   0.93066937  0.71742727  0.73737968  0.8731034   0.58786393\n",
      "  0.78573575  0.76876745  0.84514282  0.94657295  0.88127322  0.93736154\n",
      "  0.79246856  0.84721583  0.90451212  0.57272497  0.95830946  0.89912504\n",
      "  0.80069877  0.71119983  0.23331918  0.860525    0.1823753   0.86164588\n",
      "  0.58103256  0.90550009  0.29930444  0.95245435  0.90685493  0.61784167\n",
      "  0.59101462  0.55914089  0.70591644  0.8157545   0.7754988   0.87444738\n",
      "  0.64045628  0.58569805  0.76682842  0.95548287  0.7250939   0.79731035\n",
      "  0.6187453   0.74730793  0.8681991   0.39776425  0.9190583   0.77354065\n",
      "  0.69583187  0.60565355  0.77236139  0.65749869  0.50956567  0.89000478\n",
      "  0.82065503  0.94308112  0.78333777  0.95369912]\n"
     ]
    }
   ],
   "source": [
    "print(sigmoid(z))"
   ]
  },
  {
   "cell_type": "code",
   "execution_count": null,
   "metadata": {},
   "outputs": [],
   "source": []
  }
 ],
 "metadata": {
  "kernelspec": {
   "display_name": "Python 3",
   "language": "python",
   "name": "python3"
  },
  "language_info": {
   "codemirror_mode": {
    "name": "ipython",
    "version": 3
   },
   "file_extension": ".py",
   "mimetype": "text/x-python",
   "name": "python",
   "nbconvert_exporter": "python",
   "pygments_lexer": "ipython3",
   "version": "3.6.3"
  }
 },
 "nbformat": 4,
 "nbformat_minor": 2
}
